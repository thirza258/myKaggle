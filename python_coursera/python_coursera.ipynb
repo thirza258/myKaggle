{
 "cells": [
  {
   "cell_type": "markdown",
   "metadata": {},
   "source": [
    "Youtube"
   ]
  },
  {
   "cell_type": "code",
   "execution_count": 2,
   "metadata": {},
   "outputs": [],
   "source": [
    "import pandas as pd\n",
    "import numpy as np\n",
    "import matplotlib.pyplot as plt\n",
    "import seaborn as sns"
   ]
  },
  {
   "cell_type": "code",
   "execution_count": 3,
   "metadata": {},
   "outputs": [
    {
     "data": {
      "text/html": [
       "<div>\n",
       "<style scoped>\n",
       "    .dataframe tbody tr th:only-of-type {\n",
       "        vertical-align: middle;\n",
       "    }\n",
       "\n",
       "    .dataframe tbody tr th {\n",
       "        vertical-align: top;\n",
       "    }\n",
       "\n",
       "    .dataframe thead th {\n",
       "        text-align: right;\n",
       "    }\n",
       "</style>\n",
       "<table border=\"1\" class=\"dataframe\">\n",
       "  <thead>\n",
       "    <tr style=\"text-align: right;\">\n",
       "      <th></th>\n",
       "      <th>Unnamed: 0</th>\n",
       "      <th>university</th>\n",
       "      <th>course</th>\n",
       "      <th>type</th>\n",
       "      <th>review</th>\n",
       "      <th>votes</th>\n",
       "      <th>students</th>\n",
       "      <th>difficulty</th>\n",
       "    </tr>\n",
       "  </thead>\n",
       "  <tbody>\n",
       "    <tr>\n",
       "      <th>0</th>\n",
       "      <td>0</td>\n",
       "      <td>University of Michigan</td>\n",
       "      <td>Python for Everybody</td>\n",
       "      <td>SPECIALIZATION</td>\n",
       "      <td>4.8</td>\n",
       "      <td>225236.0</td>\n",
       "      <td>2400000.0</td>\n",
       "      <td>Beginner</td>\n",
       "    </tr>\n",
       "    <tr>\n",
       "      <th>1</th>\n",
       "      <td>1</td>\n",
       "      <td>Google</td>\n",
       "      <td>Google IT Automation with Python</td>\n",
       "      <td>PROFESSIONAL CERTIFICATE</td>\n",
       "      <td>4.7</td>\n",
       "      <td>21768.0</td>\n",
       "      <td>410000.0</td>\n",
       "      <td>Beginner</td>\n",
       "    </tr>\n",
       "    <tr>\n",
       "      <th>2</th>\n",
       "      <td>2</td>\n",
       "      <td>University of Michigan</td>\n",
       "      <td>Python 3 Programming</td>\n",
       "      <td>SPECIALIZATION</td>\n",
       "      <td>4.7</td>\n",
       "      <td>15904.0</td>\n",
       "      <td>290000.0</td>\n",
       "      <td>Beginner</td>\n",
       "    </tr>\n",
       "    <tr>\n",
       "      <th>3</th>\n",
       "      <td>3</td>\n",
       "      <td>University of Michigan</td>\n",
       "      <td>Applied Data Science with Python</td>\n",
       "      <td>SPECIALIZATION</td>\n",
       "      <td>4.5</td>\n",
       "      <td>29358.0</td>\n",
       "      <td>730000.0</td>\n",
       "      <td>Intermediate</td>\n",
       "    </tr>\n",
       "    <tr>\n",
       "      <th>4</th>\n",
       "      <td>4</td>\n",
       "      <td>Università di Napoli Federico II</td>\n",
       "      <td>Data Science con Python e R</td>\n",
       "      <td>SPECIALIZATION</td>\n",
       "      <td>NaN</td>\n",
       "      <td>NaN</td>\n",
       "      <td>NaN</td>\n",
       "      <td>Intermediate</td>\n",
       "    </tr>\n",
       "  </tbody>\n",
       "</table>\n",
       "</div>"
      ],
      "text/plain": [
       "   Unnamed: 0                        university  \\\n",
       "0           0            University of Michigan   \n",
       "1           1                            Google   \n",
       "2           2            University of Michigan   \n",
       "3           3            University of Michigan   \n",
       "4           4  Università di Napoli Federico II   \n",
       "\n",
       "                             course                      type  review  \\\n",
       "0              Python for Everybody            SPECIALIZATION     4.8   \n",
       "1  Google IT Automation with Python  PROFESSIONAL CERTIFICATE     4.7   \n",
       "2              Python 3 Programming            SPECIALIZATION     4.7   \n",
       "3  Applied Data Science with Python            SPECIALIZATION     4.5   \n",
       "4       Data Science con Python e R            SPECIALIZATION     NaN   \n",
       "\n",
       "      votes   students    difficulty  \n",
       "0  225236.0  2400000.0      Beginner  \n",
       "1   21768.0   410000.0      Beginner  \n",
       "2   15904.0   290000.0      Beginner  \n",
       "3   29358.0   730000.0  Intermediate  \n",
       "4       NaN        NaN  Intermediate  "
      ]
     },
     "execution_count": 3,
     "metadata": {},
     "output_type": "execute_result"
    }
   ],
   "source": [
    "df = pd.read_csv('python_courses_coursera.csv')\n",
    "df.head()"
   ]
  }
 ],
 "metadata": {
  "kernelspec": {
   "display_name": "Python 3",
   "language": "python",
   "name": "python3"
  },
  "language_info": {
   "codemirror_mode": {
    "name": "ipython",
    "version": 3
   },
   "file_extension": ".py",
   "mimetype": "text/x-python",
   "name": "python",
   "nbconvert_exporter": "python",
   "pygments_lexer": "ipython3",
   "version": "3.11.3"
  },
  "orig_nbformat": 4
 },
 "nbformat": 4,
 "nbformat_minor": 2
}
